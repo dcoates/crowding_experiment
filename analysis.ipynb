{
 "cells": [
  {
   "cell_type": "code",
   "execution_count": null,
   "id": "759fe285",
   "metadata": {},
   "outputs": [],
   "source": [
    "%pylab inline"
   ]
  },
  {
   "cell_type": "code",
   "execution_count": null,
   "id": "acc58bca",
   "metadata": {},
   "outputs": [],
   "source": [
    "res=np.loadtxt(\"./results/drc_test_vert_summary_11082024_1053.csv\", delimiter=',')"
   ]
  },
  {
   "cell_type": "code",
   "execution_count": null,
   "id": "e70274da",
   "metadata": {},
   "outputs": [],
   "source": [
    "#plt.plot( res[:,0], res[:,1], 'o-')\n",
    "#plt.loglog()\n",
    "\n",
    "x0=res[0,0]; y0=res[0,1]\n",
    "#yY=res[-1,1]\n",
    "#plt.axis('equal')\n",
    "#plt.plot( [x0,x0*10], [y0,y0/10], 'k--')\n",
    "\n",
    "solver1=Solver(res[:,0],res[:,1],linefn,True)\n",
    "p0=(np.log10(10),10**np.min(res[:,1]) )# \"Guess\" or starting params: cs, unf\n",
    "solver1.solve( p0 )\n",
    "\n",
    "solver1.plot()\n"
   ]
  },
  {
   "cell_type": "code",
   "execution_count": null,
   "id": "7720ae76",
   "metadata": {},
   "outputs": [],
   "source": []
  },
  {
   "cell_type": "code",
   "execution_count": null,
   "id": "9a8ab9e5",
   "metadata": {},
   "outputs": [],
   "source": []
  }
 ],
 "metadata": {
  "kernelspec": {
   "display_name": "Python 3 (ipykernel)",
   "language": "python",
   "name": "python3"
  },
  "language_info": {
   "codemirror_mode": {
    "name": "ipython",
    "version": 3
   },
   "file_extension": ".py",
   "mimetype": "text/x-python",
   "name": "python",
   "nbconvert_exporter": "python",
   "pygments_lexer": "ipython3",
   "version": "3.10.12"
  }
 },
 "nbformat": 4,
 "nbformat_minor": 5
}
